{
 "cells": [
  {
   "cell_type": "code",
   "execution_count": 1,
   "id": "f73fba36",
   "metadata": {},
   "outputs": [],
   "source": [
    "%load_ext autoreload\n",
    "%autoreload 2"
   ]
  },
  {
   "cell_type": "markdown",
   "id": "7d9357bd",
   "metadata": {},
   "source": [
    "ELMO Testing."
   ]
  },
  {
   "cell_type": "code",
   "execution_count": 2,
   "id": "d18fe56b",
   "metadata": {},
   "outputs": [],
   "source": [
    "from src.parser import Dataset"
   ]
  },
  {
   "cell_type": "code",
   "execution_count": 3,
   "id": "d624297a",
   "metadata": {},
   "outputs": [],
   "source": [
    "dataset = Dataset(fileName = \"model.pkl\")"
   ]
  },
  {
   "cell_type": "code",
   "execution_count": 4,
   "id": "1238e726",
   "metadata": {},
   "outputs": [
    {
     "name": "stdout",
     "output_type": "stream",
     "text": [
      "Loading data from /home/devilunraveled/College/Sem6/IntroToNLP/Assignments/ELMO/corpus/train.csv.\n",
      "|████████████████████████████████████████| 120000/120000 [100%] in 17.5s (6874.6\n",
      "Constructing bidict mapping...\n"
     ]
    }
   ],
   "source": [
    "dataset.getData()\n",
    "mapping = dataset.getMapping()"
   ]
  },
  {
   "cell_type": "code",
   "execution_count": 5,
   "id": "a0b17eb8",
   "metadata": {},
   "outputs": [
    {
     "name": "stdout",
     "output_type": "stream",
     "text": [
      "Loading test-data from /home/devilunraveled/College/Sem6/IntroToNLP/Assignments/ELMO/corpus/test.csv.\n",
      "|████████████████████████████████████████| 7600/7600 [100%] in 1.0s (7302.90/s) \n"
     ]
    }
   ],
   "source": [
    "dataset.getTestData()"
   ]
  },
  {
   "cell_type": "code",
   "execution_count": 6,
   "id": "28244e9b",
   "metadata": {},
   "outputs": [],
   "source": [
    "trainData = [ (label, tuple(tokenizedSentence)) for label, tokenizedSentence in zip(dataset.labels, dataset.tokenizedData)]\n",
    "testData = [ (label, tuple(tokenizedSentence)) for label, tokenizedSentence in zip(dataset.testLabels, dataset.testData)]"
   ]
  },
  {
   "cell_type": "code",
   "execution_count": 7,
   "id": "9a74de3b",
   "metadata": {},
   "outputs": [
    {
     "data": {
      "text/plain": [
       "'Reuters'"
      ]
     },
     "execution_count": 7,
     "metadata": {},
     "output_type": "execute_result"
    }
   ],
   "source": [
    "trainData[0][1][1]"
   ]
  },
  {
   "cell_type": "code",
   "execution_count": 14,
   "id": "db153161",
   "metadata": {},
   "outputs": [
    {
     "name": "stdout",
     "output_type": "stream",
     "text": [
      "Using cuda as device.\n"
     ]
    }
   ],
   "source": [
    "from src.elmo import ELMO\n",
    "\n",
    "elmoModel = ELMO(\n",
    "    vocabIndexing = mapping,\n",
    "    trainSentences = trainData,\n",
    "    testSentences = testData, \n",
    "    classifierName = \"ELMO_Classifier.pt\", \n",
    "    predictionName = \"ELMO_Predictor.pt\",\n",
    ")"
   ]
  },
  {
   "cell_type": "code",
   "execution_count": null,
   "id": "50ac262b",
   "metadata": {
    "scrolled": true
   },
   "outputs": [],
   "source": [
    "elmoModel.trainPrediction()"
   ]
  },
  {
   "cell_type": "code",
   "execution_count": null,
   "id": "ca258c9b",
   "metadata": {},
   "outputs": [],
   "source": []
  }
 ],
 "metadata": {
  "kernelspec": {
   "display_name": "Python 3 (ipykernel)",
   "language": "python",
   "name": "python3"
  },
  "language_info": {
   "codemirror_mode": {
    "name": "ipython",
    "version": 3
   },
   "file_extension": ".py",
   "mimetype": "text/x-python",
   "name": "python",
   "nbconvert_exporter": "python",
   "pygments_lexer": "ipython3",
   "version": "3.12.2"
  }
 },
 "nbformat": 4,
 "nbformat_minor": 5
}
