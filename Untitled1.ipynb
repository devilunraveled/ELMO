{
 "cells": [
  {
   "cell_type": "code",
   "execution_count": 1,
   "id": "0e4519fa",
   "metadata": {},
   "outputs": [],
   "source": [
    "%load_ext autoreload\n",
    "%autoreload 2"
   ]
  },
  {
   "cell_type": "markdown",
   "id": "fcfcea74",
   "metadata": {},
   "source": [
    "ELMO Testing."
   ]
  },
  {
   "cell_type": "code",
   "execution_count": 2,
   "id": "9f2f27b4",
   "metadata": {},
   "outputs": [],
   "source": [
    "from src.parser import Dataset"
   ]
  },
  {
   "cell_type": "code",
   "execution_count": 3,
   "id": "f4f6d9c2",
   "metadata": {},
   "outputs": [],
   "source": [
    "dataset = Dataset(fileName = \"model.pkl\")"
   ]
  },
  {
   "cell_type": "code",
   "execution_count": 4,
   "id": "10802e7f",
   "metadata": {},
   "outputs": [
    {
     "name": "stdout",
     "output_type": "stream",
     "text": [
      "Loading data from /home/devilunraveled/College/Sem6/IntroToNLP/Assignments/ELMO/corpus/train.csv.\n",
      "|████████████████████████████████████████| 120000/120000 [100%] in 17.5s (6849.5\n",
      "Constructing bidict mapping...\n"
     ]
    }
   ],
   "source": [
    "dataset.getData()\n",
    "mapping = dataset.getMapping()"
   ]
  },
  {
   "cell_type": "code",
   "execution_count": 5,
   "id": "c86fdf82",
   "metadata": {},
   "outputs": [
    {
     "name": "stdout",
     "output_type": "stream",
     "text": [
      "Loading test-data from /home/devilunraveled/College/Sem6/IntroToNLP/Assignments/ELMO/corpus/test.csv.\n",
      "|████████████████████████████████████████| 7600/7600 [100%] in 1.0s (7398.75/s) \n"
     ]
    }
   ],
   "source": [
    "dataset.getTestData()"
   ]
  },
  {
   "cell_type": "code",
   "execution_count": 6,
   "id": "c29ce4cf",
   "metadata": {},
   "outputs": [],
   "source": [
    "trainData = [ (label, tuple(tokenizedSentence)) for label, tokenizedSentence in zip(dataset.labels, dataset.tokenizedData)]\n",
    "testData = [ (label, tuple(tokenizedSentence)) for label, tokenizedSentence in zip(dataset.testLabels, dataset.testData)]"
   ]
  },
  {
   "cell_type": "code",
   "execution_count": null,
   "id": "e590e96b",
   "metadata": {},
   "outputs": [],
   "source": [
    "trainData[0][1][1]"
   ]
  },
  {
   "cell_type": "code",
   "execution_count": 7,
   "id": "0ba75bc9",
   "metadata": {},
   "outputs": [
    {
     "name": "stderr",
     "output_type": "stream",
     "text": [
      "/home/devilunraveled/.pyenv/versions/3.12.2/envs/elmo/lib/python3.12/site-packages/torch/cuda/__init__.py:141: UserWarning: CUDA initialization: CUDA unknown error - this may be due to an incorrectly set up environment, e.g. changing env variable CUDA_VISIBLE_DEVICES after program start. Setting the available devices to be zero. (Triggered internally at ../c10/cuda/CUDAFunctions.cpp:108.)\n",
      "  return torch._C._cuda_getDeviceCount() > 0\n",
      "/home/devilunraveled/.pyenv/versions/3.12.2/envs/elmo/lib/python3.12/site-packages/torch/nn/modules/rnn.py:83: UserWarning: dropout option adds dropout after all but last recurrent layer, so non-zero dropout expects num_layers greater than 1, but got dropout=0.1 and num_layers=1\n",
      "  warnings.warn(\"dropout option adds dropout after all but last \"\n"
     ]
    },
    {
     "name": "stdout",
     "output_type": "stream",
     "text": [
      "Using cpu as device.\n"
     ]
    }
   ],
   "source": [
    "from src.elmo import ELMO\n",
    "\n",
    "elmoModel = ELMO(\n",
    "    vocabIndexing = mapping,\n",
    "    trainSentences = trainData,\n",
    "    testSentences = testData, \n",
    "    classifierName = \"ELMO_Classifier.pt\", \n",
    "    predictionName = \"ELMO_Predictor.pt\",\n",
    ")"
   ]
  },
  {
   "cell_type": "code",
   "execution_count": null,
   "id": "a24edf8a",
   "metadata": {},
   "outputs": [],
   "source": [
    "elmoModel.predictionEvaluation()"
   ]
  }
 ],
 "metadata": {
  "kernelspec": {
   "display_name": "Python 3 (ipykernel)",
   "language": "python",
   "name": "python3"
  },
  "language_info": {
   "codemirror_mode": {
    "name": "ipython",
    "version": 3
   },
   "file_extension": ".py",
   "mimetype": "text/x-python",
   "name": "python",
   "nbconvert_exporter": "python",
   "pygments_lexer": "ipython3",
   "version": "3.12.2"
  }
 },
 "nbformat": 4,
 "nbformat_minor": 5
}
