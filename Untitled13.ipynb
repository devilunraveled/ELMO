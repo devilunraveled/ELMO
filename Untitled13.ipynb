{
 "cells": [
  {
   "cell_type": "code",
   "execution_count": 1,
   "id": "e762c1ee",
   "metadata": {},
   "outputs": [],
   "source": [
    "%load_ext autoreload\n",
    "%autoreload 2"
   ]
  },
  {
   "cell_type": "markdown",
   "id": "721ff219",
   "metadata": {},
   "source": [
    "ELMO Testing."
   ]
  },
  {
   "cell_type": "code",
   "execution_count": 2,
   "id": "09f316d5",
   "metadata": {},
   "outputs": [],
   "source": [
    "from src.parser import Dataset\n",
    "from alive_progress import alive_bar\n",
    "import torch"
   ]
  },
  {
   "cell_type": "code",
   "execution_count": 3,
   "id": "ad6cda69",
   "metadata": {},
   "outputs": [],
   "source": [
    "dataset = Dataset()"
   ]
  },
  {
   "cell_type": "code",
   "execution_count": 4,
   "id": "5e7e7684",
   "metadata": {},
   "outputs": [
    {
     "name": "stdout",
     "output_type": "stream",
     "text": [
      "Loading data from /home/devilunraveled/College/Sem6/IntroToNLP/Assignments/ELMO/corpus/train.csv.\n",
      "|████████████████████████████████████████| 120000/120000 [100%] in 19.2s (6245.5\n",
      "Constructing bidict mapping...\n"
     ]
    }
   ],
   "source": [
    "dataset.getData()\n",
    "mapping = dataset.getMapping()"
   ]
  },
  {
   "cell_type": "code",
   "execution_count": 5,
   "id": "193aca7f",
   "metadata": {},
   "outputs": [
    {
     "name": "stdout",
     "output_type": "stream",
     "text": [
      "Loading test-data from /home/devilunraveled/College/Sem6/IntroToNLP/Assignments/ELMO/corpus/test.csv.\n",
      "|████████████████████████████████████████| 7600/7600 [100%] in 1.1s (6923.97/s) \n"
     ]
    }
   ],
   "source": [
    "dataset.getTestData()"
   ]
  },
  {
   "cell_type": "code",
   "execution_count": 6,
   "id": "26314a82",
   "metadata": {},
   "outputs": [],
   "source": [
    "trainData = [ (label, tuple(tokenizedSentence)) for label, tokenizedSentence in zip(dataset.labels, dataset.tokenizedData)]\n",
    "testData = [ (label, tuple(tokenizedSentence)) for label, tokenizedSentence in zip(dataset.testLabels, dataset.testData)]"
   ]
  },
  {
   "cell_type": "code",
   "execution_count": 7,
   "id": "3ecdacec",
   "metadata": {},
   "outputs": [
    {
     "data": {
      "text/plain": [
       "0"
      ]
     },
     "execution_count": 7,
     "metadata": {},
     "output_type": "execute_result"
    }
   ],
   "source": [
    "from src.Config import Constants, ELMOConfig\n",
    "from torch.utils.data import DataLoader\n",
    "mapping[Constants.padToken]"
   ]
  },
  {
   "cell_type": "code",
   "execution_count": 8,
   "id": "2fbc84fc",
   "metadata": {},
   "outputs": [],
   "source": [
    "def predictionCollate(batch : list[torch.Tensor]):\n",
    "    return torch.nn.utils.rnn.pad_sequence(batch, batch_first = True, padding_value = 0)"
   ]
  },
  {
   "cell_type": "code",
   "execution_count": 9,
   "id": "9e8e9bc7",
   "metadata": {},
   "outputs": [
    {
     "name": "stdout",
     "output_type": "stream",
     "text": [
      "Vocab Size : 92969\n",
      "Creating Embedding Layer of size : 256\n",
      "Creating LSTM layers of size : 128\n",
      "Using cuda.\n",
      "Creating Dataset\n",
      "|████████████████████████████████████████| 120000/120000 [100%] in 2.7s (46795.5\n",
      "Dataset Created for 120000 sentences.\n",
      "tensor([ 1,  8, 17,  9, 18, 12, 20,  7, 14, 11,  5, 16, 19,  4,  6, 15, 13, 10,\n",
      "         2])\n",
      "Creating Dataset\n",
      "|████████████████████████████████████████| 7600/7600 [100%] in 0.2s (42737.13/s)\n",
      "Dataset Created for 7600 sentences.\n",
      "tensor([    1,  7542, 16662,  3950,   213, 56615,     3,  1150,   345,    19,\n",
      "            3,   938,    75,   753,   294, 11029, 14513,    33,  1325, 14749,\n",
      "           13,     2])\n"
     ]
    }
   ],
   "source": [
    "from src.elmo import ELMO, PredictionDataset\n",
    "elmoModel = ELMO(mapping=mapping)\n",
    "\n",
    "trainData = DataLoader(PredictionDataset(trainData, mapping), \n",
    "                       batch_size = ELMOConfig.batchSize, \n",
    "                       shuffle = True, collate_fn = predictionCollate)\n",
    "\n",
    "testData = DataLoader(PredictionDataset(testData, mapping),\n",
    "                      batch_size = ELMOConfig.batchSize,\n",
    "                      shuffle = True, collate_fn = predictionCollate)"
   ]
  },
  {
   "cell_type": "code",
   "execution_count": 10,
   "id": "e22d54a9",
   "metadata": {},
   "outputs": [],
   "source": [
    "def evaluation():\n",
    "    correct = 0\n",
    "    total = 0\n",
    "    with torch.no_grad():\n",
    "        with alive_bar(len(testData), force_tty = True, length = 20) as bar:\n",
    "            for data in testData:\n",
    "                data = data.to(elmoModel.device)\n",
    "                pred = elmoModel(data)\n",
    "                pred = pred.view(-1, pred.shape[-1]).argmax(dim=1)\n",
    "                labels = data.view(-1)\n",
    "                \n",
    "                mask = (labels != 0)\n",
    "                matches = torch.sum(pred[mask] == labels[mask]).item()\n",
    "                correct += matches\n",
    "                total += len(labels[mask])\n",
    "                bar()\n",
    "    accuracy = (correct / total) * 100\n",
    "    return accuracy"
   ]
  },
  {
   "cell_type": "code",
   "execution_count": 11,
   "id": "82e3fd55",
   "metadata": {},
   "outputs": [],
   "source": [
    "def trainPrediction():\n",
    "    Loss = []\n",
    "    batchNum = 0\n",
    "    \n",
    "    # trainData = testData\n",
    "\n",
    "    Optimizer = torch.optim.Adam(elmoModel.parameters(), lr = ELMOConfig.classifierLearningRate)\n",
    "    LossFunction = torch.nn.CrossEntropyLoss(ignore_index = 0)\n",
    "\n",
    "    for epoch in range(ELMOConfig.epochs):\n",
    "        avgLoss = 0\n",
    "        with alive_bar(len(trainData), force_tty = True, length = 20) as bar:\n",
    "            for data in trainData:\n",
    "                data = data.to(elmoModel.device)\n",
    "\n",
    "                Optimizer.zero_grad()\n",
    "                pred = elmoModel(data)\n",
    "\n",
    "                pred = pred.view(-1, pred.shape[-1])\n",
    "                labels = data.view(-1)\n",
    "                loss = LossFunction(pred, labels)\n",
    "                loss.backward()\n",
    "                Optimizer.step()\n",
    "                \n",
    "                avgLoss /= (batchNum + 1)\n",
    "                avgLoss *= (batchNum)\n",
    "                avgLoss += loss.item()/(batchNum + 1)\n",
    "                batchNum += 1\n",
    "                bar()\n",
    "        Loss.append(avgLoss)\n",
    "\n",
    "        print(f\"Epoch {epoch + 1}/{ELMOConfig.epochs} | Loss : {avgLoss:.4f} | Accuracy : {evaluation():.4f}\")"
   ]
  },
  {
   "cell_type": "code",
   "execution_count": null,
   "id": "83d67b29",
   "metadata": {
    "scrolled": true
   },
   "outputs": [
    {
     "name": "stdout",
     "output_type": "stream",
     "text": [
      "|████████████████████| 15000/15000 [100%] in 10:00.7 (24.97/s)                  \n",
      "|████████████████████| 950/950 [100%] in 9.1s (103.89/s)                        \n",
      "Epoch 1/10 | Loss : 1.0848 | Accuracy : 87.1141\n",
      "|██████              | ▄▆█ 4522/15000 [30%] in 3:08 (~7:16, 24.0/s)             "
     ]
    }
   ],
   "source": [
    "trainPrediction()"
   ]
  },
  {
   "cell_type": "code",
   "execution_count": null,
   "id": "d73afa91",
   "metadata": {},
   "outputs": [],
   "source": [
    "evaluation()"
   ]
  }
 ],
 "metadata": {
  "kernelspec": {
   "display_name": "Python 3 (ipykernel)",
   "language": "python",
   "name": "python3"
  },
  "language_info": {
   "codemirror_mode": {
    "name": "ipython",
    "version": 3
   },
   "file_extension": ".py",
   "mimetype": "text/x-python",
   "name": "python",
   "nbconvert_exporter": "python",
   "pygments_lexer": "ipython3",
   "version": "3.12.2"
  }
 },
 "nbformat": 4,
 "nbformat_minor": 5
}
