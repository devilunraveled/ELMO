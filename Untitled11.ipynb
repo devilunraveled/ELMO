{
 "cells": [
  {
   "cell_type": "code",
   "execution_count": 1,
   "id": "f989bcfe",
   "metadata": {},
   "outputs": [],
   "source": [
    "%load_ext autoreload\n",
    "%autoreload 2"
   ]
  },
  {
   "cell_type": "markdown",
   "id": "40452eb3",
   "metadata": {},
   "source": [
    "ELMO Testing."
   ]
  },
  {
   "cell_type": "code",
   "execution_count": 2,
   "id": "ba37d5b2",
   "metadata": {},
   "outputs": [],
   "source": [
    "from src.parser import Dataset\n",
    "from alive_progress import alive_bar"
   ]
  },
  {
   "cell_type": "code",
   "execution_count": 3,
   "id": "726b1861",
   "metadata": {},
   "outputs": [],
   "source": [
    "dataset = Dataset()"
   ]
  },
  {
   "cell_type": "code",
   "execution_count": 4,
   "id": "b7878711",
   "metadata": {},
   "outputs": [
    {
     "name": "stdout",
     "output_type": "stream",
     "text": [
      "Loading data from /home/devilunraveled/College/Sem6/IntroToNLP/Assignments/ELMO/corpus/train.csv.\n",
      "|████████████████████████████████████████| 120000/120000 [100%] in 19.0s (6323.3 ▂▂▄ 12501/120000 [10%] in 2s (~17s, 6\n",
      "Constructing bidict mapping...\n"
     ]
    }
   ],
   "source": [
    "dataset.getData()\n",
    "mapping = dataset.getMapping()"
   ]
  },
  {
   "cell_type": "code",
   "execution_count": 5,
   "id": "bd7f758d",
   "metadata": {},
   "outputs": [
    {
     "name": "stdout",
     "output_type": "stream",
     "text": [
      "Loading test-data from /home/devilunraveled/College/Sem6/IntroToNLP/Assignments/ELMO/corpus/test.csv.\n",
      "|████████████████████████████████████████| 7600/7600 [100%] in 1.1s (6987.72/s) \n"
     ]
    }
   ],
   "source": [
    "dataset.getTestData()"
   ]
  },
  {
   "cell_type": "code",
   "execution_count": 6,
   "id": "2b1d9e8c",
   "metadata": {},
   "outputs": [],
   "source": [
    "trainData = [ (label, tuple(tokenizedSentence)) for label, tokenizedSentence in zip(dataset.labels, dataset.tokenizedData)]\n",
    "testData = [ (label, tuple(tokenizedSentence)) for label, tokenizedSentence in zip(dataset.testLabels, dataset.testData)]"
   ]
  },
  {
   "cell_type": "code",
   "execution_count": 7,
   "id": "0d714f29",
   "metadata": {},
   "outputs": [
    {
     "data": {
      "text/plain": [
       "0"
      ]
     },
     "execution_count": 7,
     "metadata": {},
     "output_type": "execute_result"
    }
   ],
   "source": [
    "from src.Config import Constants, ELMOConfig\n",
    "mapping[Constants.padToken]"
   ]
  },
  {
   "cell_type": "code",
   "execution_count": 8,
   "id": "cbecf427",
   "metadata": {
    "scrolled": true
   },
   "outputs": [
    {
     "name": "stdout",
     "output_type": "stream",
     "text": [
      "Creating Dataset\n",
      "|████████████████████████████████████████| 120000/120000 [100%] in 14.9s (8082.1\n",
      "Dataset Created for 120000 sentences.\n",
      "tensor([ 1, 10, 15,  7, 17, 11, 12,  8,  5, 20, 14, 13, 16,  9, 19, 18,  4,  6,\n",
      "         2])\n",
      "Creating Dataset\n",
      "|████████████████████████████████████████| 7600/7600 [100%] in 1.0s (7978.77/s) \n",
      "Dataset Created for 7600 sentences.\n",
      "tensor([    1,  7539, 16663,  3950,   212, 56614,     3,  1148,   331,    16,\n",
      "            3,   929,    83,   751,   310, 11028, 14513,    43,  1332, 14750,\n",
      "            4,     2])\n",
      "Using cuda.\n"
     ]
    }
   ],
   "source": [
    "from src.elmo import ELMO\n",
    "elmoModel = ELMO(mapping=mapping, trainSentences=trainData, testSentences=testData)"
   ]
  },
  {
   "cell_type": "code",
   "execution_count": 9,
   "id": "70f18678",
   "metadata": {},
   "outputs": [],
   "source": [
    "import torch\n",
    "\n",
    "def evaluation():\n",
    "    correct = 0\n",
    "    print(f\"Starting Evalution\")\n",
    "    with torch.no_grad():\n",
    "        for data, _ in elmoModel.testData:\n",
    "            data = data.to(elmoModel.device)\n",
    "            pred = elmoModel(data)\n",
    "            pred = pred.view(-1, pred.shape[-1])\n",
    "            labels = data.view(-1)\n",
    "            correct += torch.sum(pred.argmax(dim=1) == labels).item()\n",
    "    accuracy = (correct / len(elmoModel.testData)) * 100\n",
    "    print(f\"Accuracy : {accuracy}\")\n",
    "    return accuracy"
   ]
  },
  {
   "cell_type": "code",
   "execution_count": 10,
   "id": "4a46d96a",
   "metadata": {
    "scrolled": true
   },
   "outputs": [],
   "source": [
    "def trainPrediction():\n",
    "    Loss = []\n",
    "    print(f\"Starting Training. For {len(elmoModel.trainData)} batches.\")\n",
    "    for epoch in range(ELMOConfig.epochs):\n",
    "        avgLoss = 0\n",
    "        with alive_bar(len(elmoModel.trainData), force_tty = True) as bar:\n",
    "            for data, _ in elmoModel.trainData:\n",
    "                data = data.to(elmoModel.device)\n",
    "\n",
    "                elmoModel.Optimizer.zero_grad()\n",
    "                pred = elmoModel(data)\n",
    "\n",
    "                pred = pred.view(-1, pred.shape[-1])\n",
    "                labels = data.view(-1)\n",
    "                loss = elmoModel.LossFunction(pred, labels)\n",
    "                loss.backward()\n",
    "                elmoModel.Optimizer.step()\n",
    "\n",
    "                avgLoss += loss.item()\n",
    "                bar()\n",
    "        avgLoss /= (len(elmoModel.trainData))\n",
    "        Loss.append(avgLoss)\n",
    "        print(f\"Epoch {epoch + 1}/{ELMOConfig.epochs} | Loss : {avgLoss} | Accuracy : {evaluation()}\")"
   ]
  },
  {
   "cell_type": "code",
   "execution_count": null,
   "id": "1fa6516f",
   "metadata": {
    "scrolled": false
   },
   "outputs": [
    {
     "name": "stdout",
     "output_type": "stream",
     "text": [
      "Starting Training. For 15000 batches.\n",
      "|████████████████████████████████████████| 15000/15000 [100%] in 14:27.8 (17.28/\n",
      "Starting Evalution\n",
      "Accuracy : 5554.631578947368\n",
      "Epoch 1/10 | Loss : 6.547564083703359 | Accuracy : 5554.631578947368\n",
      "|████████████████████████████████████████| 15000/15000 [100%] in 17:24.4 (14.36/\n",
      "Starting Evalution\n",
      "Accuracy : 15370.526315789473\n",
      "Epoch 2/10 | Loss : nan | Accuracy : 15370.526315789473\n",
      "|████████████████████████████████████████| 15000/15000 [100%] in 17:23.0 (14.38/\n",
      "Starting Evalution\n",
      "Accuracy : 15370.526315789473\n",
      "Epoch 3/10 | Loss : nan | Accuracy : 15370.526315789473\n",
      "|████████▌                               | █▆▄ 3206/15000 [21%] in 3:45 (~13:49,"
     ]
    }
   ],
   "source": [
    "trainPrediction()"
   ]
  },
  {
   "cell_type": "code",
   "execution_count": null,
   "id": "a2325f79",
   "metadata": {},
   "outputs": [],
   "source": [
    "evaluation()"
   ]
  }
 ],
 "metadata": {
  "kernelspec": {
   "display_name": "Python 3 (ipykernel)",
   "language": "python",
   "name": "python3"
  },
  "language_info": {
   "codemirror_mode": {
    "name": "ipython",
    "version": 3
   },
   "file_extension": ".py",
   "mimetype": "text/x-python",
   "name": "python",
   "nbconvert_exporter": "python",
   "pygments_lexer": "ipython3",
   "version": "3.12.2"
  }
 },
 "nbformat": 4,
 "nbformat_minor": 5
}
