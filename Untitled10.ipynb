{
 "cells": [
  {
   "cell_type": "code",
   "execution_count": 1,
   "id": "5386d0a9",
   "metadata": {},
   "outputs": [],
   "source": [
    "%load_ext autoreload\n",
    "%autoreload 2"
   ]
  },
  {
   "cell_type": "markdown",
   "id": "f19c15c4",
   "metadata": {},
   "source": [
    "ELMO Testing."
   ]
  },
  {
   "cell_type": "code",
   "execution_count": 2,
   "id": "db3b829a",
   "metadata": {},
   "outputs": [],
   "source": [
    "from src.parser import Dataset"
   ]
  },
  {
   "cell_type": "code",
   "execution_count": 3,
   "id": "419d1f30",
   "metadata": {},
   "outputs": [],
   "source": [
    "dataset = Dataset(fileName = \"model.pkl\")"
   ]
  },
  {
   "cell_type": "code",
   "execution_count": 4,
   "id": "1fc74e68",
   "metadata": {},
   "outputs": [
    {
     "name": "stdout",
     "output_type": "stream",
     "text": [
      "Loading data from /home/devilunraveled/College/Sem6/IntroToNLP/Assignments/ELMO/corpus/train.csv.\n",
      "|████████████████████████████████████████| 120000/120000 [100%] in 17.1s (7023.2\n",
      "Constructing bidict mapping...\n"
     ]
    }
   ],
   "source": [
    "dataset.getData()\n",
    "mapping = dataset.getMapping()"
   ]
  },
  {
   "cell_type": "code",
   "execution_count": 5,
   "id": "6b9ba6fe",
   "metadata": {},
   "outputs": [
    {
     "name": "stdout",
     "output_type": "stream",
     "text": [
      "Loading test-data from /home/devilunraveled/College/Sem6/IntroToNLP/Assignments/ELMO/corpus/test.csv.\n",
      "|████████████████████████████████████████| 7600/7600 [100%] in 1.1s (7265.06/s) \n"
     ]
    }
   ],
   "source": [
    "dataset.getTestData()"
   ]
  },
  {
   "cell_type": "code",
   "execution_count": 6,
   "id": "e1538d3f",
   "metadata": {},
   "outputs": [],
   "source": [
    "trainData = [ (label, tuple(tokenizedSentence)) for label, tokenizedSentence in zip(dataset.labels, dataset.tokenizedData)]\n",
    "testData = [ (label, tuple(tokenizedSentence)) for label, tokenizedSentence in zip(dataset.testLabels, dataset.testData)]"
   ]
  },
  {
   "cell_type": "code",
   "execution_count": 7,
   "id": "4aea6e12",
   "metadata": {},
   "outputs": [
    {
     "data": {
      "text/plain": [
       "'Reuters'"
      ]
     },
     "execution_count": 7,
     "metadata": {},
     "output_type": "execute_result"
    }
   ],
   "source": [
    "trainData[0][1][1]"
   ]
  },
  {
   "cell_type": "code",
   "execution_count": null,
   "id": "5d6e312a",
   "metadata": {},
   "outputs": [],
   "source": [
    "from src.elmo import ELMO\n",
    "\n",
    "elmoModel = ELMO(\n",
    "    vocabIndexing = mapping,\n",
    "    trainSentences = trainData,\n",
    "    testSentences = testData, \n",
    "    classifierName = \"ELMO_Classifier.pt\", \n",
    "    predictionName = \"ELMO_Predictor.pt\",\n",
    ")"
   ]
  },
  {
   "cell_type": "code",
   "execution_count": 17,
   "id": "1b4b44e2",
   "metadata": {
    "scrolled": true
   },
   "outputs": [
    {
     "name": "stdout",
     "output_type": "stream",
     "text": [
      "on 15000: Epoch : 1 | Loss: 5.091116503063838 | Test Accuracy : 36.57439522164862\n",
      "|████████████████████████████████████████| 15000/15000 [100%] in 9:55.2 (25.21/s\n",
      "|██████████████████████████▊⚠︎            | (!) 10028/15000 [67%] in 5:05.9 (32.7\n"
     ]
    },
    {
     "ename": "KeyboardInterrupt",
     "evalue": "",
     "output_type": "error",
     "traceback": [
      "\u001b[0;31m---------------------------------------------------------------------------\u001b[0m",
      "\u001b[0;31mKeyboardInterrupt\u001b[0m                         Traceback (most recent call last)",
      "Cell \u001b[0;32mIn[17], line 1\u001b[0m\n\u001b[0;32m----> 1\u001b[0m \u001b[43melmoModel\u001b[49m\u001b[38;5;241;43m.\u001b[39;49m\u001b[43mtrainPrediction\u001b[49m\u001b[43m(\u001b[49m\u001b[43m)\u001b[49m\n",
      "File \u001b[0;32m~/College/Sem6/IntroToNLP/Assignments/ELMO/src/elmo.py:303\u001b[0m, in \u001b[0;36mELMO.trainPrediction\u001b[0;34m(self)\u001b[0m\n\u001b[1;32m    300\u001b[0m \u001b[38;5;28;01mwith\u001b[39;00m alive_bar(\u001b[38;5;28mlen\u001b[39m(\u001b[38;5;28mself\u001b[39m\u001b[38;5;241m.\u001b[39mtrainDatasetPrediction), force_tty\u001b[38;5;241m=\u001b[39m\u001b[38;5;28;01mTrue\u001b[39;00m) \u001b[38;5;28;01mas\u001b[39;00m bar:\n\u001b[1;32m    301\u001b[0m     \u001b[38;5;28;01mfor\u001b[39;00m sentence, length \u001b[38;5;129;01min\u001b[39;00m \u001b[38;5;28mself\u001b[39m\u001b[38;5;241m.\u001b[39mtrainDatasetPrediction:\n\u001b[1;32m    302\u001b[0m         \u001b[38;5;66;03m# print(f\"Sentence : {sentence.shape} | Label : {label.shape}\")\u001b[39;00m\n\u001b[0;32m--> 303\u001b[0m         loss \u001b[38;5;241m=\u001b[39m \u001b[38;5;28;43mself\u001b[39;49m\u001b[38;5;241;43m.\u001b[39;49m\u001b[43mtrainPredictionStep\u001b[49m\u001b[43m(\u001b[49m\u001b[43msentence\u001b[49m\u001b[43m,\u001b[49m\u001b[43m \u001b[49m\u001b[43mlength\u001b[49m\u001b[43m)\u001b[49m\n\u001b[1;32m    304\u001b[0m         avgLoss \u001b[38;5;241m+\u001b[39m\u001b[38;5;241m=\u001b[39m loss\n\u001b[1;32m    305\u001b[0m         bar()\n",
      "File \u001b[0;32m~/College/Sem6/IntroToNLP/Assignments/ELMO/src/elmo.py:294\u001b[0m, in \u001b[0;36mELMO.trainPredictionStep\u001b[0;34m(self, input, inputLength)\u001b[0m\n\u001b[1;32m    292\u001b[0m loss\u001b[38;5;241m.\u001b[39mbackward()\n\u001b[1;32m    293\u001b[0m \u001b[38;5;28mself\u001b[39m\u001b[38;5;241m.\u001b[39mpredictionOptimizer\u001b[38;5;241m.\u001b[39mstep()\n\u001b[0;32m--> 294\u001b[0m \u001b[38;5;28;01mreturn\u001b[39;00m \u001b[43mloss\u001b[49m\u001b[38;5;241;43m.\u001b[39;49m\u001b[43mitem\u001b[49m\u001b[43m(\u001b[49m\u001b[43m)\u001b[49m\n",
      "\u001b[0;31mKeyboardInterrupt\u001b[0m: "
     ]
    }
   ],
   "source": [
    "elmoModel.trainPrediction()"
   ]
  }
 ],
 "metadata": {
  "kernelspec": {
   "display_name": "Python 3 (ipykernel)",
   "language": "python",
   "name": "python3"
  },
  "language_info": {
   "codemirror_mode": {
    "name": "ipython",
    "version": 3
   },
   "file_extension": ".py",
   "mimetype": "text/x-python",
   "name": "python",
   "nbconvert_exporter": "python",
   "pygments_lexer": "ipython3",
   "version": "3.12.2"
  }
 },
 "nbformat": 4,
 "nbformat_minor": 5
}
